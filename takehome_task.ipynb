{
 "cells": [
  {
   "cell_type": "markdown",
   "id": "ee2ba867-38f0-4497-bff6-bf6a2e687105",
   "metadata": {},
   "source": [
    "# By Miles - Data Scientist interview task\n",
    "\n",
    "### Sam Dolman, July 2024"
   ]
  },
  {
   "cell_type": "markdown",
   "id": "8c8f094a-6d6d-472b-92e1-9df21e379477",
   "metadata": {},
   "source": [
    "## Imports"
   ]
  },
  {
   "cell_type": "code",
   "execution_count": 6,
   "id": "f04a7df3-852a-450a-bec0-0c07898bc973",
   "metadata": {},
   "outputs": [],
   "source": [
    "import numpy as np\n",
    "import pandas as pd\n",
    "import matplotlib.pyplot as plt\n",
    "import lightgbm as lgbm"
   ]
  },
  {
   "cell_type": "markdown",
   "id": "a18170d0-c5dc-4ba6-b0df-4bb3e614d64e",
   "metadata": {},
   "source": [
    "## Data Exploration"
   ]
  },
  {
   "cell_type": "code",
   "execution_count": null,
   "id": "2c7b5c73-77af-416a-9a26-43d0f1100978",
   "metadata": {},
   "outputs": [],
   "source": []
  },
  {
   "cell_type": "code",
   "execution_count": null,
   "id": "9e8c83b6-4480-4ebb-8a3a-e3273bf37376",
   "metadata": {},
   "outputs": [],
   "source": []
  },
  {
   "cell_type": "code",
   "execution_count": null,
   "id": "b011d4da-8adc-429b-837e-c03d62e4bcbf",
   "metadata": {},
   "outputs": [],
   "source": []
  },
  {
   "cell_type": "markdown",
   "id": "09a7d9e7-fae5-4d6d-b943-c3078e40adfb",
   "metadata": {},
   "source": [
    "## Model Training"
   ]
  },
  {
   "cell_type": "code",
   "execution_count": null,
   "id": "98fc2014-bc05-4371-9e1f-56cbf868b9a8",
   "metadata": {},
   "outputs": [],
   "source": []
  },
  {
   "cell_type": "code",
   "execution_count": null,
   "id": "c3280ec9-54d9-4507-9a64-dc8b3f5dbf5f",
   "metadata": {},
   "outputs": [],
   "source": []
  },
  {
   "cell_type": "code",
   "execution_count": null,
   "id": "ccbb80eb-6b32-4e59-9b66-c4b70b98399c",
   "metadata": {},
   "outputs": [],
   "source": []
  },
  {
   "cell_type": "markdown",
   "id": "c725e0ec-8b3c-4c70-8624-9871e60c3d45",
   "metadata": {},
   "source": [
    "## Model Validation / Interpretation"
   ]
  },
  {
   "cell_type": "code",
   "execution_count": null,
   "id": "26f07352-46b9-4dc9-a59b-08c176a7590b",
   "metadata": {},
   "outputs": [],
   "source": []
  },
  {
   "cell_type": "code",
   "execution_count": null,
   "id": "f5f8bee0-bcde-4e45-a99e-78e2a2c08d12",
   "metadata": {},
   "outputs": [],
   "source": []
  },
  {
   "cell_type": "code",
   "execution_count": null,
   "id": "a0c061bc-aff7-4c2a-9e73-282cda1f6e5f",
   "metadata": {},
   "outputs": [],
   "source": []
  }
 ],
 "metadata": {
  "kernelspec": {
   "display_name": "Python 3 (ipykernel)",
   "language": "python",
   "name": "python3"
  },
  "language_info": {
   "codemirror_mode": {
    "name": "ipython",
    "version": 3
   },
   "file_extension": ".py",
   "mimetype": "text/x-python",
   "name": "python",
   "nbconvert_exporter": "python",
   "pygments_lexer": "ipython3",
   "version": "3.12.4"
  }
 },
 "nbformat": 4,
 "nbformat_minor": 5
}
